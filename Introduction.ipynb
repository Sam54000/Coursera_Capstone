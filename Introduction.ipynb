{
 "cells": [
  {
   "cell_type": "markdown",
   "metadata": {},
   "source": [
    "# <center>GreenTech Project</center>"
   ]
  },
  {
   "cell_type": "markdown",
   "metadata": {},
   "source": [
    "# Introduction\n",
    "The world is currently experiencing one of the biggest crises in history – that was the result of just a nano-meter assembly of nucleic acid and protein. The SARS-COV2 virus (aka COVID-19) reminds us of the fragility of humanity - its economy, the ecosystem and how important it is to take care of our surrounding environment. The COVID-19 crisis has completely thrown the economy into an almost unprecedented chaos. But in these dark times there is still a lot of hope. Decisions made during the “days after” will be extremely important for the future of our economy, planet/environment and mankind. Each of us have the choice to either think about how we can create a better world with our skills and knowledge, or if we will just fall back on our old ways. The first hope is that people will change their way of thinking, and work in new ways while making environmentally-friendly decisions. The second hope is that the crash of the economy creates a unique opportunity for young entrepreneurs to come out from under the shadow of big companies. Perhaps the aftermath will force people and businesses to rely more on skills and ideas rather than on money.In this context I decided to act at my level to contribute to the golbal effort: use high technology for the environment.This project outlines the opening of an electronic store dedicated to the environement in Manhattan.\n",
    "\n",
    "The business will need to be close to a university in order to attract students, scientists, or people who are passionate about creating their own projects for the environment. The neighborhood should have the following: \n",
    "- A low crime rate\n",
    "- A high population density\n",
    "- A low average rent price\n",
    "\n",
    "Once the best neighborhood for the project is found, the study will focuse on this neighborhood and search where exactly, is the best location, within the neighborhood, to open the store. The store must be located in a commercial zone in a radius of 100m from a science&technology laboratory or teaching building."
   ]
  },
  {
   "cell_type": "code",
   "execution_count": null,
   "metadata": {},
   "outputs": [],
   "source": []
  }
 ],
 "metadata": {
  "kernelspec": {
   "display_name": "Python 3",
   "language": "python",
   "name": "python3"
  },
  "language_info": {
   "codemirror_mode": {
    "name": "ipython",
    "version": 3
   },
   "file_extension": ".py",
   "mimetype": "text/x-python",
   "name": "python",
   "nbconvert_exporter": "python",
   "pygments_lexer": "ipython3",
   "version": "3.8.2"
  }
 },
 "nbformat": 4,
 "nbformat_minor": 4
}
