{
    "cells": [
        {
            "metadata": {},
            "cell_type": "markdown",
            "source": "# 1. Importing data from a webpage\nthe following lines imports all the tables and counting them"
        },
        {
            "metadata": {},
            "cell_type": "code",
            "source": "import pandas as pd\ndf_CP = pd.read_html('https://en.wikipedia.org/wiki/List_of_postal_codes_of_Canada:_M')\nprint('there are', len(df_CP), ' tables in the wikipedia web page')",
            "execution_count": 21,
            "outputs": [
                {
                    "output_type": "stream",
                    "text": "there are 3  tables in the wikipedia web page\n",
                    "name": "stdout"
                }
            ]
        },
        {
            "metadata": {},
            "cell_type": "markdown",
            "source": "After checking on the webpage, the postale code table is the first one.\nThe following lines put in the dataframe df_CP only the first table and display it"
        },
        {
            "metadata": {},
            "cell_type": "code",
            "source": "df_CP = df_CP[0]\ndf_CP.head(12)",
            "execution_count": 22,
            "outputs": [
                {
                    "output_type": "execute_result",
                    "execution_count": 22,
                    "data": {
                        "text/plain": "   Postal Code           Borough                                 Neighborhood\n0          M1A      Not assigned                                          NaN\n1          M2A      Not assigned                                          NaN\n2          M3A        North York                                    Parkwoods\n3          M4A        North York                             Victoria Village\n4          M5A  Downtown Toronto                    Regent Park, Harbourfront\n5          M6A        North York             Lawrence Manor, Lawrence Heights\n6          M7A  Downtown Toronto  Queen's Park, Ontario Provincial Government\n7          M8A      Not assigned                                          NaN\n8          M9A         Etobicoke                             Islington Avenue\n9          M1B       Scarborough                               Malvern, Rouge\n10         M2B      Not assigned                                          NaN\n11         M3B        North York                                    Don Mills",
                        "text/html": "<div>\n<style scoped>\n    .dataframe tbody tr th:only-of-type {\n        vertical-align: middle;\n    }\n\n    .dataframe tbody tr th {\n        vertical-align: top;\n    }\n\n    .dataframe thead th {\n        text-align: right;\n    }\n</style>\n<table border=\"1\" class=\"dataframe\">\n  <thead>\n    <tr style=\"text-align: right;\">\n      <th></th>\n      <th>Postal Code</th>\n      <th>Borough</th>\n      <th>Neighborhood</th>\n    </tr>\n  </thead>\n  <tbody>\n    <tr>\n      <th>0</th>\n      <td>M1A</td>\n      <td>Not assigned</td>\n      <td>NaN</td>\n    </tr>\n    <tr>\n      <th>1</th>\n      <td>M2A</td>\n      <td>Not assigned</td>\n      <td>NaN</td>\n    </tr>\n    <tr>\n      <th>2</th>\n      <td>M3A</td>\n      <td>North York</td>\n      <td>Parkwoods</td>\n    </tr>\n    <tr>\n      <th>3</th>\n      <td>M4A</td>\n      <td>North York</td>\n      <td>Victoria Village</td>\n    </tr>\n    <tr>\n      <th>4</th>\n      <td>M5A</td>\n      <td>Downtown Toronto</td>\n      <td>Regent Park, Harbourfront</td>\n    </tr>\n    <tr>\n      <th>5</th>\n      <td>M6A</td>\n      <td>North York</td>\n      <td>Lawrence Manor, Lawrence Heights</td>\n    </tr>\n    <tr>\n      <th>6</th>\n      <td>M7A</td>\n      <td>Downtown Toronto</td>\n      <td>Queen's Park, Ontario Provincial Government</td>\n    </tr>\n    <tr>\n      <th>7</th>\n      <td>M8A</td>\n      <td>Not assigned</td>\n      <td>NaN</td>\n    </tr>\n    <tr>\n      <th>8</th>\n      <td>M9A</td>\n      <td>Etobicoke</td>\n      <td>Islington Avenue</td>\n    </tr>\n    <tr>\n      <th>9</th>\n      <td>M1B</td>\n      <td>Scarborough</td>\n      <td>Malvern, Rouge</td>\n    </tr>\n    <tr>\n      <th>10</th>\n      <td>M2B</td>\n      <td>Not assigned</td>\n      <td>NaN</td>\n    </tr>\n    <tr>\n      <th>11</th>\n      <td>M3B</td>\n      <td>North York</td>\n      <td>Don Mills</td>\n    </tr>\n  </tbody>\n</table>\n</div>"
                    },
                    "metadata": {}
                }
            ]
        },
        {
            "metadata": {},
            "cell_type": "markdown",
            "source": "### Cleaning data\nlet's see how are organized the columns 'Borough' and 'Neighborhood'"
        },
        {
            "metadata": {},
            "cell_type": "code",
            "source": "Not_assigned_Neighborhood = len(df_CP.loc[df_CP['Neighborhood'].isin(['Not assigned'])])\nNaN_Neighborhood = df_CP[\"Neighborhood\"].isna().sum()\nNot_assigned_Borough = len(df_CP.loc[df_CP['Borough'].isin(['Not assigned'])])\nNaN_Borough = df_CP[\"Borough\"].isna().sum()\n\nprint('There are',Not_assigned_Neighborhood, ' non assigned Neighborhood and', Not_assigned_Borough, 'non assigned Boroughs')\nprint('There are',NaN_Neighborhood, ' data missing in the column Neighborhood and', NaN_Borough, 'data missing in the column Boroughs')",
            "execution_count": 6,
            "outputs": [
                {
                    "output_type": "stream",
                    "text": "There are 0  non assigned Neighborhood and 77 non assigned Boroughs\nThere are 77  data missing in the column Neighborhood and 0 data missing in the column Boroughs\n",
                    "name": "stdout"
                }
            ]
        },
        {
            "metadata": {},
            "cell_type": "markdown",
            "source": "From the precedent results we can make the hypothesis that all the rows where there is a 'Non assigned' Boroughs has a missing data in the column 'Neighborhood'. Let's drop the rows which contain the missing data: "
        },
        {
            "metadata": {},
            "cell_type": "code",
            "source": "df_CP = df_CP.dropna()\ndf_CP.head(12)",
            "execution_count": 23,
            "outputs": [
                {
                    "output_type": "execute_result",
                    "execution_count": 23,
                    "data": {
                        "text/plain": "   Postal Code           Borough  \\\n2          M3A        North York   \n3          M4A        North York   \n4          M5A  Downtown Toronto   \n5          M6A        North York   \n6          M7A  Downtown Toronto   \n8          M9A         Etobicoke   \n9          M1B       Scarborough   \n11         M3B        North York   \n12         M4B         East York   \n13         M5B  Downtown Toronto   \n14         M6B        North York   \n17         M9B         Etobicoke   \n\n                                         Neighborhood  \n2                                           Parkwoods  \n3                                    Victoria Village  \n4                           Regent Park, Harbourfront  \n5                    Lawrence Manor, Lawrence Heights  \n6         Queen's Park, Ontario Provincial Government  \n8                                    Islington Avenue  \n9                                      Malvern, Rouge  \n11                                          Don Mills  \n12                    Parkview Hill, Woodbine Gardens  \n13                           Garden District, Ryerson  \n14                                          Glencairn  \n17  West Deane Park, Princess Gardens, Martin Grov...  ",
                        "text/html": "<div>\n<style scoped>\n    .dataframe tbody tr th:only-of-type {\n        vertical-align: middle;\n    }\n\n    .dataframe tbody tr th {\n        vertical-align: top;\n    }\n\n    .dataframe thead th {\n        text-align: right;\n    }\n</style>\n<table border=\"1\" class=\"dataframe\">\n  <thead>\n    <tr style=\"text-align: right;\">\n      <th></th>\n      <th>Postal Code</th>\n      <th>Borough</th>\n      <th>Neighborhood</th>\n    </tr>\n  </thead>\n  <tbody>\n    <tr>\n      <th>2</th>\n      <td>M3A</td>\n      <td>North York</td>\n      <td>Parkwoods</td>\n    </tr>\n    <tr>\n      <th>3</th>\n      <td>M4A</td>\n      <td>North York</td>\n      <td>Victoria Village</td>\n    </tr>\n    <tr>\n      <th>4</th>\n      <td>M5A</td>\n      <td>Downtown Toronto</td>\n      <td>Regent Park, Harbourfront</td>\n    </tr>\n    <tr>\n      <th>5</th>\n      <td>M6A</td>\n      <td>North York</td>\n      <td>Lawrence Manor, Lawrence Heights</td>\n    </tr>\n    <tr>\n      <th>6</th>\n      <td>M7A</td>\n      <td>Downtown Toronto</td>\n      <td>Queen's Park, Ontario Provincial Government</td>\n    </tr>\n    <tr>\n      <th>8</th>\n      <td>M9A</td>\n      <td>Etobicoke</td>\n      <td>Islington Avenue</td>\n    </tr>\n    <tr>\n      <th>9</th>\n      <td>M1B</td>\n      <td>Scarborough</td>\n      <td>Malvern, Rouge</td>\n    </tr>\n    <tr>\n      <th>11</th>\n      <td>M3B</td>\n      <td>North York</td>\n      <td>Don Mills</td>\n    </tr>\n    <tr>\n      <th>12</th>\n      <td>M4B</td>\n      <td>East York</td>\n      <td>Parkview Hill, Woodbine Gardens</td>\n    </tr>\n    <tr>\n      <th>13</th>\n      <td>M5B</td>\n      <td>Downtown Toronto</td>\n      <td>Garden District, Ryerson</td>\n    </tr>\n    <tr>\n      <th>14</th>\n      <td>M6B</td>\n      <td>North York</td>\n      <td>Glencairn</td>\n    </tr>\n    <tr>\n      <th>17</th>\n      <td>M9B</td>\n      <td>Etobicoke</td>\n      <td>West Deane Park, Princess Gardens, Martin Grov...</td>\n    </tr>\n  </tbody>\n</table>\n</div>"
                    },
                    "metadata": {}
                }
            ]
        },
        {
            "metadata": {},
            "cell_type": "markdown",
            "source": "Let's now check if there are some 'Not assigned' values left after processing"
        },
        {
            "metadata": {},
            "cell_type": "code",
            "source": "Not_assigned_Neighborhood = len(df_CP.loc[df_CP['Neighborhood'].isin(['Not assigned'])])\nNaN_Neighborhood = df_CP[\"Neighborhood\"].isna().sum()\nNot_assigned_Borough = len(df_CP.loc[df_CP['Borough'].isin(['Not assigned'])])\nNaN_Borough = df_CP[\"Borough\"].isna().sum()\n\nprint('There are',Not_assigned_Neighborhood, ' non assigned Neighborhood and', Not_assigned_Borough, 'non assigned Boroughs after processing')\nprint('There are',NaN_Neighborhood, ' data missing in the column Neighborhood and', NaN_Borough, 'data missing in the column Boroughs after processing')",
            "execution_count": 8,
            "outputs": [
                {
                    "output_type": "stream",
                    "text": "There are 0  non assigned Neighborhood and 0 non assigned Boroughs after processing\nThere are 0  data missing in the column Neighborhood and 0 data missing in the column Boroughs after processing\n",
                    "name": "stdout"
                }
            ]
        },
        {
            "metadata": {},
            "cell_type": "markdown",
            "source": "Now the data frame doesn't contain any missing data and 'not assigned' borrows. Let's check the number of rows in the new data frame:"
        },
        {
            "metadata": {},
            "cell_type": "code",
            "source": "size = df_CP.shape\nprint('There are', size[0], 'rows in the data frame now')",
            "execution_count": 9,
            "outputs": [
                {
                    "output_type": "stream",
                    "text": "There are 103 rows in the data frame now\n",
                    "name": "stdout"
                }
            ]
        },
        {
            "metadata": {},
            "cell_type": "markdown",
            "source": "# 2. Getting the coordinates of each postal code"
        },
        {
            "metadata": {},
            "cell_type": "code",
            "source": "!conda install -c conda-forge geocoder --yes ",
            "execution_count": 10,
            "outputs": [
                {
                    "output_type": "stream",
                    "text": "Solving environment: done\n\n## Package Plan ##\n\n  environment location: /opt/conda/envs/Python36\n\n  added / updated specs: \n    - geocoder\n\n\nThe following packages will be downloaded:\n\n    package                    |            build\n    ---------------------------|-----------------\n    certifi-2020.4.5.1         |   py36h9f0ad1d_0         151 KB  conda-forge\n    python_abi-3.6             |          1_cp36m           4 KB  conda-forge\n    geocoder-1.38.1            |             py_1          53 KB  conda-forge\n    ratelim-0.1.6              |             py_2           6 KB  conda-forge\n    openssl-1.1.1g             |       h516909a_0         2.1 MB  conda-forge\n    ca-certificates-2020.4.5.1 |       hecc5488_0         146 KB  conda-forge\n    ------------------------------------------------------------\n                                           Total:         2.5 MB\n\nThe following NEW packages will be INSTALLED:\n\n    geocoder:        1.38.1-py_1       conda-forge\n    python_abi:      3.6-1_cp36m       conda-forge\n    ratelim:         0.1.6-py_2        conda-forge\n\nThe following packages will be UPDATED:\n\n    ca-certificates: 2020.1.1-0                    --> 2020.4.5.1-hecc5488_0     conda-forge\n    certifi:         2020.4.5.1-py36_0             --> 2020.4.5.1-py36h9f0ad1d_0 conda-forge\n    openssl:         1.1.1g-h7b6447c_0             --> 1.1.1g-h516909a_0         conda-forge\n\n\nDownloading and Extracting Packages\ncertifi-2020.4.5.1   | 151 KB    | ##################################### | 100% \npython_abi-3.6       | 4 KB      | ##################################### | 100% \ngeocoder-1.38.1      | 53 KB     | ##################################### | 100% \nratelim-0.1.6        | 6 KB      | ##################################### | 100% \nopenssl-1.1.1g       | 2.1 MB    | ##################################### | 100% \nca-certificates-2020 | 146 KB    | ##################################### | 100% \nPreparing transaction: done\nVerifying transaction: done\nExecuting transaction: done\n",
                    "name": "stdout"
                }
            ]
        },
        {
            "metadata": {},
            "cell_type": "markdown",
            "source": "I wanted to try the geocoder package but it return 'Request Denied'"
        },
        {
            "metadata": {},
            "cell_type": "code",
            "source": "\nimport geocoder # import geocoder\n\n# initialize your variable to None\nlat_lng_coords = None\n\n# loop until you get the coordinates\nwhile(lat_lng_coords is None):\n  g = geocoder.google('{}, Toronto, Ontario'.format('M5G'))\n  lat_lng_coords = g.latlng\n  print(g)\n\nlatitude = lat_lng_coords[0]\nlongitude = lat_lng_coords[1]",
            "execution_count": 24,
            "outputs": []
        },
        {
            "metadata": {},
            "cell_type": "markdown",
            "source": "So I broke the 'while' loop and decided to work with the given csv file"
        },
        {
            "metadata": {},
            "cell_type": "code",
            "source": "!wget -q -O 'location_data.csv' http://cocl.us/Geospatial_data #Download the data and name it 'location_data.csv'\ndf_coord = pd.read_csv('location_data.csv')                    #read the CSV file\nDF_Located = pd.merge(df_CP, df_coord, on='Postal Code')       #merging the 'location' dataframe with the previous dataframe by matching the column 'postal code'",
            "execution_count": 13,
            "outputs": []
        },
        {
            "metadata": {},
            "cell_type": "markdown",
            "source": "Let's check the data"
        },
        {
            "metadata": {},
            "cell_type": "code",
            "source": "DF_Located.head(12)",
            "execution_count": 15,
            "outputs": [
                {
                    "output_type": "execute_result",
                    "execution_count": 15,
                    "data": {
                        "text/plain": "   Postal Code           Borough  \\\n0          M3A        North York   \n1          M4A        North York   \n2          M5A  Downtown Toronto   \n3          M6A        North York   \n4          M7A  Downtown Toronto   \n5          M9A         Etobicoke   \n6          M1B       Scarborough   \n7          M3B        North York   \n8          M4B         East York   \n9          M5B  Downtown Toronto   \n10         M6B        North York   \n11         M9B         Etobicoke   \n\n                                         Neighborhood   Latitude  Longitude  \n0                                           Parkwoods  43.753259 -79.329656  \n1                                    Victoria Village  43.725882 -79.315572  \n2                           Regent Park, Harbourfront  43.654260 -79.360636  \n3                    Lawrence Manor, Lawrence Heights  43.718518 -79.464763  \n4         Queen's Park, Ontario Provincial Government  43.662301 -79.389494  \n5                                    Islington Avenue  43.667856 -79.532242  \n6                                      Malvern, Rouge  43.806686 -79.194353  \n7                                           Don Mills  43.745906 -79.352188  \n8                     Parkview Hill, Woodbine Gardens  43.706397 -79.309937  \n9                            Garden District, Ryerson  43.657162 -79.378937  \n10                                          Glencairn  43.709577 -79.445073  \n11  West Deane Park, Princess Gardens, Martin Grov...  43.650943 -79.554724  ",
                        "text/html": "<div>\n<style scoped>\n    .dataframe tbody tr th:only-of-type {\n        vertical-align: middle;\n    }\n\n    .dataframe tbody tr th {\n        vertical-align: top;\n    }\n\n    .dataframe thead th {\n        text-align: right;\n    }\n</style>\n<table border=\"1\" class=\"dataframe\">\n  <thead>\n    <tr style=\"text-align: right;\">\n      <th></th>\n      <th>Postal Code</th>\n      <th>Borough</th>\n      <th>Neighborhood</th>\n      <th>Latitude</th>\n      <th>Longitude</th>\n    </tr>\n  </thead>\n  <tbody>\n    <tr>\n      <th>0</th>\n      <td>M3A</td>\n      <td>North York</td>\n      <td>Parkwoods</td>\n      <td>43.753259</td>\n      <td>-79.329656</td>\n    </tr>\n    <tr>\n      <th>1</th>\n      <td>M4A</td>\n      <td>North York</td>\n      <td>Victoria Village</td>\n      <td>43.725882</td>\n      <td>-79.315572</td>\n    </tr>\n    <tr>\n      <th>2</th>\n      <td>M5A</td>\n      <td>Downtown Toronto</td>\n      <td>Regent Park, Harbourfront</td>\n      <td>43.654260</td>\n      <td>-79.360636</td>\n    </tr>\n    <tr>\n      <th>3</th>\n      <td>M6A</td>\n      <td>North York</td>\n      <td>Lawrence Manor, Lawrence Heights</td>\n      <td>43.718518</td>\n      <td>-79.464763</td>\n    </tr>\n    <tr>\n      <th>4</th>\n      <td>M7A</td>\n      <td>Downtown Toronto</td>\n      <td>Queen's Park, Ontario Provincial Government</td>\n      <td>43.662301</td>\n      <td>-79.389494</td>\n    </tr>\n    <tr>\n      <th>5</th>\n      <td>M9A</td>\n      <td>Etobicoke</td>\n      <td>Islington Avenue</td>\n      <td>43.667856</td>\n      <td>-79.532242</td>\n    </tr>\n    <tr>\n      <th>6</th>\n      <td>M1B</td>\n      <td>Scarborough</td>\n      <td>Malvern, Rouge</td>\n      <td>43.806686</td>\n      <td>-79.194353</td>\n    </tr>\n    <tr>\n      <th>7</th>\n      <td>M3B</td>\n      <td>North York</td>\n      <td>Don Mills</td>\n      <td>43.745906</td>\n      <td>-79.352188</td>\n    </tr>\n    <tr>\n      <th>8</th>\n      <td>M4B</td>\n      <td>East York</td>\n      <td>Parkview Hill, Woodbine Gardens</td>\n      <td>43.706397</td>\n      <td>-79.309937</td>\n    </tr>\n    <tr>\n      <th>9</th>\n      <td>M5B</td>\n      <td>Downtown Toronto</td>\n      <td>Garden District, Ryerson</td>\n      <td>43.657162</td>\n      <td>-79.378937</td>\n    </tr>\n    <tr>\n      <th>10</th>\n      <td>M6B</td>\n      <td>North York</td>\n      <td>Glencairn</td>\n      <td>43.709577</td>\n      <td>-79.445073</td>\n    </tr>\n    <tr>\n      <th>11</th>\n      <td>M9B</td>\n      <td>Etobicoke</td>\n      <td>West Deane Park, Princess Gardens, Martin Grov...</td>\n      <td>43.650943</td>\n      <td>-79.554724</td>\n    </tr>\n  </tbody>\n</table>\n</div>"
                    },
                    "metadata": {}
                }
            ]
        },
        {
            "metadata": {},
            "cell_type": "code",
            "source": "",
            "execution_count": null,
            "outputs": []
        }
    ],
    "metadata": {
        "kernelspec": {
            "name": "python3",
            "display_name": "Python 3.6",
            "language": "python"
        },
        "language_info": {
            "name": "python",
            "version": "3.6.9",
            "mimetype": "text/x-python",
            "codemirror_mode": {
                "name": "ipython",
                "version": 3
            },
            "pygments_lexer": "ipython3",
            "nbconvert_exporter": "python",
            "file_extension": ".py"
        }
    },
    "nbformat": 4,
    "nbformat_minor": 1
}